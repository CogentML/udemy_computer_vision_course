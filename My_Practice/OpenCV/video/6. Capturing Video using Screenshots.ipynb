{
 "cells": [
  {
   "cell_type": "markdown",
   "metadata": {
    "id": "pfJaLTlEYxOz"
   },
   "source": [
    "![](https://github.com/rajeevratan84/ModernComputerVision/raw/main/logo_MCV_W.png)\n",
    "\n",
    "# **Capturing Video Using Screenshots**\n",
    "\n",
    "#### **In this lesson we'll learn how to use a class to enable auto reconnection to a video stream**"
   ]
  },
  {
   "cell_type": "markdown",
   "metadata": {
    "id": "1vbgRsUhYxO4"
   },
   "source": [
    "#### **Install Instructions:**\n",
    "\n",
    "**MacOS or Linux**\n",
    "1. pip install Pillow\n",
    "2. sudo -H pip install pyscreenshot\n",
    "\n",
    "**Windows**\n",
    "1. pip install Pillow\n",
    "2. pip install pyscreenshot"
   ]
  },
  {
   "cell_type": "markdown",
   "metadata": {
    "id": "gLzaUuhRYxO4"
   },
   "source": [
    "## **Capture Single Screenshot Image**"
   ]
  },
  {
   "cell_type": "code",
   "execution_count": 2,
   "metadata": {
    "id": "qebtmQYbYxO5"
   },
   "outputs": [],
   "source": [
    "import pyscreenshot as ImageGrab\n",
    "\n",
    "# grab fullscreen\n",
    "im = ImageGrab.grab()\n",
    "\n",
    "# save image file\n",
    "im.save('fullscreen0.png')"
   ]
  },
  {
   "cell_type": "markdown",
   "metadata": {
    "id": "Vk2ZSwcWYxO6"
   },
   "source": [
    "## **Capture Video from Screen**"
   ]
  },
  {
   "cell_type": "code",
   "execution_count": null,
   "metadata": {
    "id": "iKvHsgPIYxO7",
    "outputId": "e705bd01-c907-4e9a-b7a2-d1e17a22c200"
   },
   "outputs": [],
   "source": [
    "### import numpy as np\n",
    "from PIL import ImageGrab\n",
    "import cv2\n",
    "import time\n",
    "\n",
    "last_time = time.time()\n",
    "\n",
    "while(True):\n",
    "    \n",
    "    frame = np.array(ImageGrab.grab(bbox=(0,0,300,300)))\n",
    "    \n",
    "    # Get fullscreen\n",
    "    #frame = np.array(ImageGrab.grab())\n",
    "    \n",
    "    # Display FPS rate\n",
    "    FPS = 1.0 / (time.time()-last_time)\n",
    "    print('FPS = {}'.format(FPS))\n",
    "    last_time = time.time()\n",
    "    \n",
    "    # Display Screen\n",
    "    cv2.imshow('window', cv2.cvtColor(frame, cv2.COLOR_BGR2RGB))\n",
    "    \n",
    "    if cv2.waitKey(1) == 13: #13 is the Enter Key\n",
    "        print(\"Exited...\")\n",
    "        break\n",
    "        \n",
    "cv2.destroyAllWindows()"
   ]
  },
  {
   "cell_type": "markdown",
   "metadata": {
    "id": "TIggxrysYxPA"
   },
   "source": [
    "## **Need a Super Fast Frame Rate? Use MSS**\n",
    "\n",
    "```pip install mss```"
   ]
  },
  {
   "cell_type": "code",
   "execution_count": null,
   "metadata": {
    "id": "JZPZhmRRYxPA",
    "outputId": "c3cce8e9-79aa-4b11-ea69-1132ab596a0b"
   },
   "outputs": [
    {
     "name": "stdout",
     "output_type": "stream",
     "text": [
      "FPS = 37.939305129666316\n",
      "FPS = 36.813453402847266\n",
      "FPS = 36.509670792639405\n",
      "FPS = 36.90479709991905\n",
      "FPS = 38.88006822521738\n",
      "FPS = 41.509678951743794\n",
      "FPS = 41.30040568750246\n",
      "FPS = 36.338546043682804\n",
      "FPS = 38.72821118918569\n",
      "FPS = 42.498925951444896\n",
      "FPS = 36.24340251974491\n",
      "FPS = 40.38459834968563\n",
      "FPS = 36.78536409959569\n",
      "FPS = 39.67933399555366\n",
      "FPS = 30.306759637270133\n",
      "FPS = 39.94841560865962\n",
      "FPS = 35.24862175608444\n",
      "FPS = 39.23246873509246\n",
      "FPS = 44.53923182296036\n",
      "FPS = 41.925012244734766\n",
      "FPS = 38.343364902914395\n",
      "FPS = 38.06463440089301\n",
      "FPS = 36.99039589378158\n",
      "FPS = 36.196485898719324\n",
      "FPS = 42.839674384875444\n",
      "FPS = 47.072534033646455\n",
      "Exited...\n"
     ]
    }
   ],
   "source": [
    "import numpy as np\n",
    "import cv2\n",
    "from mss import mss\n",
    "from PIL import Image\n",
    "import time\n",
    "\n",
    "bounding_box = {'top': 100, 'left': 0, 'width': 400, 'height': 300}\n",
    "\n",
    "sct = mss()\n",
    "frame_count = 0 \n",
    "last_time = time.time()\n",
    "\n",
    "while True:\n",
    "    frame_count += 1\n",
    "    sct_img = sct.grab(bounding_box)\n",
    "    cv2.imshow('screen', np.array(sct_img))\n",
    "\n",
    "    # Display FPS rate\n",
    "    if frame_count % 30 == 0:\n",
    "        FPS = 1.0 / (time.time()-last_time)\n",
    "        print('FPS = {}'.format(FPS))\n",
    "    last_time = time.time()    \n",
    "\n",
    "    if cv2.waitKey(1) == 13: #13 is the Enter Key\n",
    "        print(\"Exited...\")\n",
    "        break\n",
    "        \n",
    "cv2.destroyAllWindows()"
   ]
  }
 ],
 "metadata": {
  "colab": {
   "name": "6. Capturing Video using Screenshots.ipynb",
   "provenance": []
  },
  "kernelspec": {
   "display_name": "Python 3 (ipykernel)",
   "language": "python",
   "name": "python3"
  },
  "language_info": {
   "codemirror_mode": {
    "name": "ipython",
    "version": 3
   },
   "file_extension": ".py",
   "mimetype": "text/x-python",
   "name": "python",
   "nbconvert_exporter": "python",
   "pygments_lexer": "ipython3",
   "version": "3.11.1"
  }
 },
 "nbformat": 4,
 "nbformat_minor": 4
}
